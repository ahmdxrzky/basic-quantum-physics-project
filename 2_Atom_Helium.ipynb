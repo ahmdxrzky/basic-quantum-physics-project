{
  "cells": [
    {
      "attachments": {},
      "cell_type": "markdown",
      "metadata": {},
      "source": [
        "## Theoretical Background\n",
        "\n",
        "To find ground state energy of a physics system, always remember to start by solving its Schrodinger Equation. Schrodinger Equation for Helium atom (system with two protons and two electrons) written as follows:\n",
        "$$\\left[ -\\frac{\\hbar^2}{2m}\\nabla_{1}^2-\\frac{\\hbar^2}{2m}\\nabla_{2}^2-\\frac{2e^2}{4\\pi\\epsilon_0 r_{1}}-\\frac{2e^2}{4\\pi\\epsilon_0 r_{2}}+\\frac{e^2}{4\\pi\\epsilon_0 r_{12}} \\right] \\psi(\\mathbf{r_1},\\mathbf{r_2}) = E\\psi(\\mathbf{r_1},\\mathbf{r_2})$$\n",
        "\n",
        "To make it simpler computationally, it is often to change Schrodinger equation in atomic units, as follows:\n",
        "$$\\left[ -\\frac{1}{2}\\nabla_{1}^2-\\frac{1}{2}\\nabla_{2}^2-\\frac{2}{r_1}-\\frac{2}{r_2}+\\frac{1}{r_{12}} \\right] \\psi(\\mathbf{r_1},\\mathbf{r_2}) = E\\psi(\\mathbf{r_1},\\mathbf{r_2})$$\n",
        "with energy stated in Hartree units (1 Hartree = 27.212 eV = $4.359 x 10^{-18}$ Joule).\n",
        "\n",
        "Approximate the wave equation with Gaussian Basis Set, $\\psi(\\mathbf{r_1},\\mathbf{r_2}) = \\phi_1(\\mathbf{r_1})\\phi_2(\\mathbf{r_2})$ with $\\phi_i(\\mathbf{r_i}) = \\sum_{p}\\mathrm{C}_{p}\\mathrm{e}^{-\\alpha_{p}\\mathrm{\\mathbf{r_i}}^{2}}$, so above equation can be written as follows:\n",
        "$$\\left[ -\\frac{1}{2}\\nabla_{1}^2-\\frac{1}{2}\\nabla_{2}^2-\\frac{2}{r_1}-\\frac{2}{r_2}+\\frac{1}{r_{12}} \\right] \\phi_1(\\mathbf{r_1})\\phi_2(\\mathbf{r_2}) = E\\phi_1(\\mathbf{r_1})\\phi_2(\\mathbf{r_2})$$\n",
        "\n",
        "To solve this problem, do bra operation to both sides of the equation.\n",
        "$$\\phi_2^*(\\mathbf{r_2})\\left[ -\\frac{1}{2}\\nabla_{1}^2-\\frac{1}{2}\\nabla_{2}^2-\\frac{2}{r_1}-\\frac{2}{r_2}+\\frac{1}{r_{12}} \\right] \\phi_1(\\mathbf{r_1})\\phi_2(\\mathbf{r_2}) = \\phi_2^*(\\mathbf{r_2})E\\phi_1(\\mathbf{r_1})\\phi_2(\\mathbf{r_2})$$\n",
        "$$\\int d^3\\mathbf{r_2}\\phi_2^*(\\mathbf{r_2})\\left[ -\\frac{1}{2}\\nabla_{1}^2-\\frac{1}{2}\\nabla_{2}^2-\\frac{2}{r_1}-\\frac{2}{r_2}+\\frac{1}{r_{12}} \\right] \\phi_1(\\mathbf{r_1})\\phi_2(\\mathbf{r_2}) = \\int d^3\\mathbf{r_2}\\phi_2^*(\\mathbf{r_2})E\\phi_1(\\mathbf{r_1})\\phi_2(\\mathbf{r_2})$$\n",
        "$$\\int d^3\\mathbf{r_2}\\phi_2^*(\\mathbf{r_2})\\left[ -\\frac{1}{2}\\nabla_{1}^2-\\frac{1}{2}\\nabla_{2}^2-\\frac{2}{r_1}-\\frac{2}{r_2} \\right] \\phi_1(\\mathbf{r_1})\\phi_2(\\mathbf{r_2}) + \n",
        "\\int d^3\\mathbf{r_2}\\phi_2^*(\\mathbf{r_2})\\left[ \\frac{1}{r_{12}} \\right] \\phi_1(\\mathbf{r_1})\\phi_2(\\mathbf{r_2}) = \\int d^3\\mathbf{r_2}\\phi_2^*(\\mathbf{r_2})E\\phi_1(\\mathbf{r_1})\\phi_2(\\mathbf{r_2})$$\n",
        "$$\\int d^3\\mathbf{r_2}\\phi_2^*(\\mathbf{r_2})\\left[ -\\frac{1}{2}\\nabla_{1}^2-\\frac{2}{r_1} \\right] \\phi_1(\\mathbf{r_1})\\phi_2(\\mathbf{r_2}) + \\int d^3\\mathbf{r_2}\\phi_2^*(\\mathbf{r_2})\\left[ -\\frac{1}{2}\\nabla_{2}^2-\\frac{2}{r_2} \\right] \\phi_1(\\mathbf{r_1})\\phi_2(\\mathbf{r_2}) + \\phi_1(\\mathbf{r_1})\\int d^3\\mathbf{r_2}\\frac{\\left| \\phi_2(\\mathbf{r_2}) \\right|^2}{r_{12}} = E\\phi_1(\\mathbf{r_1}) \\int d^3\\mathbf{r_2}\\phi_2^*(\\mathbf{r_2})\\phi_2(\\mathbf{r_2})$$\n",
        "$$\\left[ -\\frac{1}{2}\\nabla_{1}^2-\\frac{2}{r_1} \\right]\\phi_1(\\mathbf{r_1})\\int d^3\\mathbf{r_2}\\phi_2^*(\\mathbf{r_2}) \\phi_2(\\mathbf{r_2}) + \\phi_1(\\mathbf{r_1})\\int d^3\\mathbf{r_2}\\phi_2^*(\\mathbf{r_2})\\left[ -\\frac{1}{2}\\nabla_{2}^2-\\frac{2}{r_2} \\right] \\phi_2(\\mathbf{r_2}) + \\phi_1(\\mathbf{r_1})\\int d^3\\mathbf{r_2}\\frac{\\left| \\phi_2(\\mathbf{r_2}) \\right|^2}{r_{12}} = E\\phi_1(\\mathbf{r_1}) \\int d^3\\mathbf{r_2}\\phi_2^*(\\mathbf{r_2})\\phi_2(\\mathbf{r_2})$$\n",
        "$$\\left[ -\\frac{1}{2}\\nabla_{1}^2-\\frac{2}{r_1} \\right]\\phi_1(\\mathbf{r_1}) + \\phi_1(\\mathbf{r_1}) E_2 + \\phi_1(\\mathbf{r_1})\\int d^3\\mathbf{r_2}\\frac{\\left| \\phi_2(\\mathbf{r_2}) \\right|^2}{r_{12}} = E\\phi_1(\\mathbf{r_1})$$\n",
        "$$\\left[ -\\frac{1}{2}\\nabla_{1}^2-\\frac{2}{r_1}+\\int d^3\\mathbf{r_2}\\frac{\\left| \\phi_2(\\mathbf{r_2}) \\right|^2}{r_{12}} \\right]\\phi_1(\\mathbf{r_1}) = (E - E_2)\\phi_1(\\mathbf{r_1})$$\n",
        "$$\\left[ -\\frac{1}{2}\\nabla_{1}^2-\\frac{2}{r_1}+\\int d^3\\mathbf{r_2}\\frac{\\left| \\phi_2(\\mathbf{r_2}) \\right|^2}{r_{12}} \\right]\\phi_1(\\mathbf{r_1}) = E_1\\phi_1(\\mathbf{r_1})$$\n",
        "$$\\left[ -\\frac{1}{2}\\nabla_{1}^2-\\frac{2}{r_1}+\\sum_{r,s}\\mathrm{C}_{r}\\mathrm{C}_{s}\\int d^3\\mathbf{r_2}\\frac{e^{-\\alpha_{r}\\mathbf{r_2}^{2}}e^{-\\alpha_{s}\\mathbf{r_2}^{2}}}{r_{12}}\\right] \\sum_{q}\\mathrm{C}_{q}e^{-\\alpha_{q}\\mathbf{r_1}^{2}} = E_1\\sum_{q}\\mathrm{C}_{q}e^{-\\alpha_{q}\\mathbf{r_1}^{2}}$$\n",
        "$$\\sum_{p}\\mathrm{C}_{p}e^{-\\alpha_{p}\\mathbf{r_1}^{2}}\\left[ -\\frac{1}{2}\\nabla_{1}^2-\\frac{2}{r_1}+\\sum_{r,s}\\mathrm{C}_{r}\\mathrm{C}_{s}\\int d^3\\mathbf{r_2}\\frac{e^{-\\alpha_{r}\\mathbf{r_2}^{2}}e^{-\\alpha_{s}\\mathbf{r_2}^{2}}}{r_{12}}\\right] \\sum_{q}\\mathrm{C}_{q}e^{-\\alpha_{q}\\mathbf{r_1}^{2}} = E_1\\sum_{p}\\mathrm{C}_{p}e^{-\\alpha_{p}\\mathbf{r_1}^{2}}\\sum_{q}\\mathrm{C}_{q}e^{-\\alpha_{q}\\mathbf{r_1}^{2}}$$\n",
        "$$\\sum_{p,q}\\mathrm{C}_{p}\\mathrm{C}_{q}e^{-\\alpha_{p}\\mathbf{r_1}^{2}} \\left[ -\\frac{1}{2}\\nabla_{1}^2-\\frac{2}{r_1}+\\sum_{r,s}\\mathrm{C}_{r}\\mathrm{C}_{s}\\int d^3\\mathbf{r_2}\\frac{e^{-\\alpha_{r}\\mathbf{r_2}^{2}}e^{-\\alpha_{s}\\mathbf{r_2}^{2}}}{r_{12}} \\right] e^{-\\alpha_{q}\\mathbf{r_1}^{2}} = E_1\\sum_{p,q}\\mathrm{C}_{p}\\mathrm{C}_{q}e^{-\\alpha_{p}\\mathbf{r_1}^{2}}e^{-\\alpha_{q}\\mathbf{r_1}^{2}}$$\n",
        "$$\\sum_{p,q}\\mathrm{C}_{p}\\mathrm{C}_{q}\\int d^3\\mathbf{r_1}e^{-\\alpha_{p}\\mathbf{r_1}^{2}} \\left[ -\\frac{1}{2}\\nabla_{1}^2-\\frac{2}{r_1}+\\sum_{r,s}\\mathrm{C}_{r}\\mathrm{C}_{s}\\int d^3\\mathbf{r_2}\\frac{e^{-\\alpha_{r}\\mathbf{r_2}^{2}}e^{-\\alpha_{s}\\mathbf{r_2}^{2}}}{r_{12}} \\right] e^{-\\alpha_{q}\\mathbf{r_1}^{2}} = E_1\\sum_{p,q}\\mathrm{C}_{p}\\mathrm{C}_{q}\\int d^3\\mathbf{r_1}e^{-\\alpha_{p}\\mathbf{r_1}^{2}}e^{-\\alpha_{q}\\mathbf{r_1}^{2}}$$\n",
        "$$\\small\\sum_{p,q}\\mathrm{C}_{p}\\mathrm{C}_{q}\\left[ -\\frac{1}{2} \\int d^3\\mathbf{r_1}e^{-\\alpha_{p}\\mathbf{r_1}^{2}} \\nabla_{1}^2 e^{-\\alpha_{q}\\mathbf{r_1}^{2}} - 2 \\int d^3\\mathbf{r_1}e^{-\\alpha_{p}\\mathbf{r_1}^{2}} \\frac{1}{r_1} e^{-\\alpha_{q}\\mathbf{r_1}^{2}} + \\sum_{r,s}\\mathrm{C}_{r}\\mathrm{C}_{s} \\int d^3\\mathbf{r_1}d^3\\mathbf{r_2}e^{-\\alpha_{p}\\mathbf{r_1}^{2}}e^{-\\alpha_{q}\\mathbf{r_1}^{2}} \\frac{1}{r_{12}} e^{-\\alpha_{r}\\mathbf{r_2}^{2}}e^{-\\alpha_{s}\\mathbf{r_2}^{2}} \\right] = E_1\\sum_{p,q}\\mathrm{C}_{p}\\mathrm{C}_{q}\\int d^3\\mathbf{r_1}e^{-\\alpha_{p}\\mathbf{r_1}^{2}}e^{-\\alpha_{q}\\mathbf{r_1}^{2}}\\small$$\n",
        "\n",
        "From our book reference, those three form of integration problems have already solved, so equation can also be written as follows:\n",
        "$$\\sum_{p,q}\\mathrm{C}_{p}\\mathrm{C}_{q} \\left[ \\left( 3\\frac{\\alpha_{p}\\alpha_{q}\\pi^{\\frac{3}{2}}}{(\\alpha_{p} + \\alpha_{q})^\\frac{5}{2}} - \\frac{2\\pi}{\\alpha_{p} + \\alpha_{q}} \\right) + \\sum_{r,s}\\mathrm{C}_{r}\\mathrm{C}_{s} \\left(\\frac{2\\pi^{\\frac{5}{2}}}{(\\alpha_p + \\alpha_q)(\\alpha_r + \\alpha_s) \\sqrt{\\alpha_p + \\alpha_q + \\alpha_r + \\alpha_s}} \\right) \\right] = E_1 \\sum_{p,q} \\mathrm{C}_{p}\\mathrm{C}_{q} \\left( \\frac{\\pi}{\\alpha_{p} + \\alpha_{q}} \\right)^{\\frac{3}{2}}$$\n",
        "$$\\sum_{p,q} \\left[ H_{pq} + \\sum_{r,s}\\mathrm{C}_{r}\\mathrm{C}_{s} Q_{pqrs} \\right] \\mathrm{C}_{p}\\mathrm{C}_{q} = E_1 \\sum_{p,q} S_{pq} \\mathrm{C}_{p}\\mathrm{C}_{q}$$\n",
        "$$\\sum_{p,q} \\mathrm{C}_{p}\\mathrm{C}_{q} H_{pq} + \\sum_{p,q,r,s}\\mathrm{C}_{p}\\mathrm{C}_{q}\\mathrm{C}_{r}\\mathrm{C}_{s} Q_{pqrs} = E_1 \\sum_{p,q} \\mathrm{C}_{p}S_{pq}\\mathrm{C}_{q} = E_1$$\n",
        "\n",
        "We have find the equation of energy for system 1 only. Now, we have to determined equation for overall system.\n",
        "$$E_1 = E - E_2$$\n",
        "$$E = E_1 + E_2$$\n",
        "$$E = E_1 + \\int d^3\\mathbf{r_2}\\phi_2^*(\\mathbf{r_2})\\left[ -\\frac{1}{2}\\nabla_{2}^2-\\frac{2}{r_2} \\right] \\phi_2(\\mathbf{r_2})$$\n",
        "$$E = E_1 + \\sum_{p,q}\\mathrm{C}_{p}\\mathrm{C}_{q} \\int d^3\\mathbf{r_2} e^{-\\alpha_p\\mathbf{r_2}^2} \\left[ -\\frac{1}{2}\\nabla_{2}^2-\\frac{2}{r_2} \\right] e^{-\\alpha_q\\mathbf{r_2}^2}$$\n",
        "$$E = E_1 + \\sum_{p,q}\\mathrm{C}_{p}\\mathrm{C}_{q} \\left[ \\frac{3\\alpha_{p}\\alpha_{q}\\pi^{\\frac{3}{2}}}{(\\alpha_{p} + \\alpha_{q})^\\frac{5}{2}} - \\frac{4\\pi}{\\alpha_{p} + \\alpha_{q}} \\right]$$\n",
        "$$E = \\sum_{p,q} \\mathrm{C}_{p}\\mathrm{C}_{q} H_{pq} + \\sum_{p,q,r,s}\\mathrm{C}_{p}\\mathrm{C}_{q}\\mathrm{C}_{r}\\mathrm{C}_{s} Q_{pqrs} + \\sum_{p,q}\\mathrm{C}_{p}\\mathrm{C}_{q} H_{pq}$$\n",
        "$$E = 2\\sum_{p,q} \\mathrm{C}_{p}\\mathrm{C}_{q} H_{pq} + \\sum_{p,q,r,s}\\mathrm{C}_{p}\\mathrm{C}_{q}\\mathrm{C}_{r}\\mathrm{C}_{s} Q_{pqrs}$$"
      ]
    },
    {
      "attachments": {},
      "cell_type": "markdown",
      "metadata": {},
      "source": [
        "## Library"
      ]
    },
    {
      "cell_type": "code",
      "execution_count": 1,
      "metadata": {
        "id": "MY8vIeeLhCVO"
      },
      "outputs": [],
      "source": [
        "import math\n",
        "import numpy as np\n",
        "from scipy.linalg import eigh\n",
        "import matplotlib.pyplot as plt"
      ]
    },
    {
      "attachments": {},
      "cell_type": "markdown",
      "metadata": {},
      "source": [
        "## Predefined Functions"
      ]
    },
    {
      "attachments": {},
      "cell_type": "markdown",
      "metadata": {},
      "source": [
        "$$H_{pq} = \\frac{3\\alpha_{p}\\alpha_{q}\\pi^{\\frac{3}{2}}}{(\\alpha_{p} + \\alpha_{q})^\\frac{5}{2}} - \\frac{4\\pi}{\\alpha_{p} + \\alpha_{q}}$$"
      ]
    },
    {
      "cell_type": "code",
      "execution_count": 2,
      "metadata": {
        "id": "yb9dectThD4U"
      },
      "outputs": [],
      "source": [
        "def hamiltonian_element(alpha_p: float, alpha_q: float) -> float:\n",
        "  \"\"\"\n",
        "  Calculate Hamiltonian matrix's element for row p and column q.\n",
        "\n",
        "  :param alpha_p: (float) Alpha p value.\n",
        "  :param alpha_q: (float) Alpha q value.\n",
        "\n",
        "  :return (float) Element of hamiltonian matrix for row p and column q.\n",
        "  \"\"\"\n",
        "  kinetics_part = (3*alpha_p*alpha_q*((math.pi)**(3/2))) / ((alpha_p + alpha_q)**(5/2))\n",
        "  potential_part = (4*math.pi) / (alpha_p + alpha_q)\n",
        "  hamiltonian_element = kinetics_part - potential_part\n",
        "  return hamiltonian_element"
      ]
    },
    {
      "attachments": {},
      "cell_type": "markdown",
      "metadata": {},
      "source": [
        "$$Q_{pqrs} = \\frac{2\\pi^{\\frac{5}{2}}}{(\\alpha_p + \\alpha_q)(\\alpha_r + \\alpha_s) \\sqrt{\\alpha_p + \\alpha_q + \\alpha_r + \\alpha_s}}$$"
      ]
    },
    {
      "cell_type": "code",
      "execution_count": 3,
      "metadata": {
        "id": "lObCCiqX0Se1"
      },
      "outputs": [],
      "source": [
        "def nuclear_element(alpha_p: float, alpha_q: float, alpha_r: float, alpha_s: float) -> float:\n",
        "  \"\"\"\n",
        "  Calculate Nuclear Attraction matrix's element for p, q, r, and s.\n",
        "\n",
        "  :param alpha_p: (float) Alpha p value.\n",
        "  :param alpha_q: (float) Alpha q value.\n",
        "  :param alpha_r: (float) Alpha r value.\n",
        "  :param alpha_s: (float) Alpha s value.\n",
        "\n",
        "  :return (float) Element of nuclear attraction matrix for row p, q, r, and s.\n",
        "  \"\"\"\n",
        "  top_part = (2*((math.pi)**(5/2)))\n",
        "  multiply_down_part = (alpha_p + alpha_q)*(alpha_r + alpha_s)\n",
        "  root_down_part = math.sqrt(alpha_p + alpha_q + alpha_r + alpha_s)\n",
        "  nuclear_element = top_part / (multiply_down_part * root_down_part)\n",
        "  return nuclear_element"
      ]
    },
    {
      "attachments": {},
      "cell_type": "markdown",
      "metadata": {},
      "source": [
        "$$ S_{pq} = \\left( \\frac{\\pi}{\\alpha_{p} + \\alpha_{q}} \\right)^{\\frac{3}{2}} $$"
      ]
    },
    {
      "cell_type": "code",
      "execution_count": 4,
      "metadata": {
        "id": "-ZRQzcBUiLYl"
      },
      "outputs": [],
      "source": [
        "def overlap_element(alpha_p: float, alpha_q: float) -> float:\n",
        "  \"\"\"\n",
        "  Calculate Overlap matrix's element for row p and column q.\n",
        "\n",
        "  :param alpha_p: (float) Alpha p value.\n",
        "  :param alpha_q: (float) Alpha q value.\n",
        "\n",
        "  :return (float) Element of overlap matrix for row p and column q.\n",
        "  \"\"\"\n",
        "  overlap_element = (math.pi/(alpha_p + alpha_q))**(3/2)\n",
        "  return overlap_element"
      ]
    },
    {
      "attachments": {},
      "cell_type": "markdown",
      "metadata": {},
      "source": [
        "$$F_{pq} = H_{pq} + \\sum_{r,s}\\mathrm{C}_{r}\\mathrm{C}_{s} Q_{pqrs}$$\n",
        "$$E = 2\\sum_{p,q} \\mathrm{C}_{p}\\mathrm{C}_{q} H_{pq} + \\sum_{p,q,r,s}\\mathrm{C}_{p}\\mathrm{C}_{q}\\mathrm{C}_{r}\\mathrm{C}_{s} Q_{pqrs}$$"
      ]
    },
    {
      "cell_type": "code",
      "execution_count": 5,
      "metadata": {
        "id": "jFt2R8tojidz"
      },
      "outputs": [],
      "source": [
        "def cycle(alpha: list, coefficient: list) -> tuple([float, list]):\n",
        "  \"\"\"\n",
        "  A cycle of procedure to calculate ground-state energy and coefficients of wave function of Helium atom.\n",
        "\n",
        "  :param alpha: (list) Alpha variables used to solve generalize eigenvalue problem.\n",
        "  :param coefficient: (list) Gaussian coefficients from previous process.\n",
        "\n",
        "  :return: (float) Energy value calculated from solving the generalize eigenvalue problem.\n",
        "  :return: (list) Gaussian coefficients for the wave equation.\n",
        "  ===============================\n",
        "  1. Declare total alpha used for the problem.\n",
        "  2. Declare initial structure of fock and overlap matrix.\n",
        "  3. Count fock, nuclear, and overlap matrix's element row by row, column by column.\n",
        "  4. Solve generalized eigenvalue problem to get coefficients of ground-state wave function.\n",
        "  5. Count energy based on fock, nuclear, and overlap matrices. \n",
        "  \"\"\"\n",
        "  n_alpha = len(alpha)\n",
        "  nuclear_matrix = np.zeros(shape = (n_alpha, n_alpha, n_alpha, n_alpha))\n",
        "  overlap_matrix = np.zeros(shape = (n_alpha, n_alpha))\n",
        "  fock_matrix = np.zeros(shape = (n_alpha, n_alpha))\n",
        "\n",
        "  left_part = 0\n",
        "  right_part = 0\n",
        "  for p in range(n_alpha):\n",
        "    for q in range(n_alpha):\n",
        "      interaction_part = 0\n",
        "      hamiltonian_p_q = hamiltonian_element(alpha[p], alpha[q])\n",
        "      overlap_matrix[p][q] = overlap_element(alpha[p], alpha[q])\n",
        "      left_part += coefficient[p]*coefficient[q]*hamiltonian_p_q\n",
        "      for r in range(n_alpha):\n",
        "        for s in range(n_alpha):\n",
        "          nuclear_matrix[p][q][r][s] = nuclear_element(alpha[p], alpha[q], alpha[r], alpha[s])\n",
        "          interaction_part += coefficient[r]*coefficient[s]*nuclear_matrix[p][q][r][s]\n",
        "          right_part += nuclear_matrix[p][q][r][s]*coefficient[p]*coefficient[q]*coefficient[r]*coefficient[s]\n",
        "      fock_matrix[p][q] = hamiltonian_p_q + interaction_part\n",
        "  \n",
        "  energy_values, coefficient_matrix = eigh(fock_matrix, overlap_matrix)\n",
        "  for index, energy in enumerate(energy_values):\n",
        "    if energy == min(energy_values):\n",
        "      coefficient_final = coefficient_matrix[:, index]\n",
        "  energy_final = 2*left_part + right_part\n",
        "\n",
        "  return energy_final, coefficient_final"
      ]
    },
    {
      "cell_type": "code",
      "execution_count": 6,
      "metadata": {},
      "outputs": [],
      "source": [
        "def SCF(alpha_matrix: list, initial_coefficient: list) -> tuple([float, list, float, list, list]):\n",
        "    \"\"\"\n",
        "    SCF procedure to solve ground-state energy and wave function of Helium atom.\n",
        "\n",
        "    :param alpha: (list) Alpha variables used to solve generalize eigenvalue problem.\n",
        "    :param coefficient: (list) Gaussian coefficients from previous process.\n",
        "\n",
        "    :return: (float) Final energy after all of SCF procedures.\n",
        "    :return: (list) Final gaussian coefficients of wave function after all of SCF procedures.\n",
        "    :return: (list) Total cycle of SCF procedures done.\n",
        "    :return: (list) Energy values returned after each iterations.\n",
        "    =========================\n",
        "    1. Declare variable to record history of each iterations.\n",
        "    2. Do initial SCF procedure.\n",
        "    3. Do loop process for SCF procedure until\n",
        "       current and previous result of energy value has no difference at all.\n",
        "    \"\"\"\n",
        "    iteration = []\n",
        "    energy_before = 1000\n",
        "    energy_values = []\n",
        "\n",
        "    energy_after, final_coefficient = cycle(alpha_matrix, initial_coefficient)\n",
        "    i = 1\n",
        "    while i < 100:\n",
        "        percent_of_error = abs((energy_before - energy_after) / energy_before) * 100\n",
        "        iteration.append(i)\n",
        "        energy_values.append(energy_after)  \n",
        "        if percent_of_error == 0:\n",
        "            break\n",
        "        else:\n",
        "            energy_before = energy_after\n",
        "            energy_after, final_coefficient = cycle(alpha_matrix, final_coefficient)\n",
        "        i += 1\n",
        "\n",
        "    return energy_after, final_coefficient, iteration, energy_values"
      ]
    },
    {
      "attachments": {},
      "cell_type": "markdown",
      "metadata": {},
      "source": [
        "## Main"
      ]
    },
    {
      "cell_type": "code",
      "execution_count": 7,
      "metadata": {
        "colab": {
          "base_uri": "https://localhost:8080/",
          "height": 367
        },
        "id": "ZGx0N_EH6Nru",
        "outputId": "831fe9d0-7c27-4db1-cdce-c8375723a96a"
      },
      "outputs": [
        {
          "name": "stdout",
          "output_type": "stream",
          "text": [
            "Calculated ground-state energy for Helium atom = -2.85516038 Hartree.\n",
            "Percent of error from calculation result relative to the actual one = 0.0%\n",
            "Coefficient: [0.14772291 0.39384432 0.41082717 0.26129687]\n"
          ]
        },
        {
          "data": {
            "image/png": "[encoded data removed]",
            "text/plain": [
              "<Figure size 2000x800 with 1 Axes>"
            ]
          },
          "metadata": {},
          "output_type": "display_data"
        }
      ],
      "source": [
        "actual_energy = -2.85516038\n",
        "alpha_matrix = [0.298073, 1.242567, 5.782948, 38.474970]\n",
        "initial_coefficient = [10 for x in alpha_matrix]\n",
        "\n",
        "final_energy, final_coefficient, iteration, energy_values = SCF(alpha_matrix, initial_coefficient)\n",
        "percent_of_error = abs((actual_energy - final_energy) / actual_energy) * 100\n",
        "\n",
        "print(f\"Calculated ground-state energy for Helium atom = {round(final_energy, 8)} Hartree.\")\n",
        "print(f\"Percent of error from calculation result relative to the actual one = {round(percent_of_error, 4)}%\")\n",
        "print(f\"Coefficient: {final_coefficient}\")\n",
        "\n",
        "fig, ax = plt.subplots(figsize=(20,8)) \n",
        "ax.scatter(iteration, energy_values, color='red')\n",
        "ax.plot(iteration, energy_values, color='blue')\n",
        "plt.title(\"Ground-state energy value for Helium atom per iteration\")\n",
        "plt.xlabel(\"Iteration\")\n",
        "plt.ylabel(\"Energy (Hartree)\")\n",
        "plt.show()"
      ]
    },
    {
      "attachments": {},
      "cell_type": "markdown",
      "metadata": {},
      "source": [
        "From coefficient above, we can write the ground-state wave function of the hydrogen atom as follows:\n",
        "$$\\psi(\\mathbf{r}) = \\phi_1(\\mathbf{r_1})\\phi_2(\\mathbf{r_2}) = \\sum_{p}\\mathrm{C}_{p}\\mathrm{e}^{-\\alpha_{p}\\mathrm{\\mathbf{r_1}}^{2}}\\sum_{p}\\mathrm{C}_{p}\\mathrm{e}^{-\\alpha_{p}\\mathrm{\\mathbf{r_2}}^{2}}$$\n",
        "\n",
        "$$\\scriptsize\\psi(\\mathbf{r}) = \\left(0.14772291\\mathrm{e}^{-10.298073\\mathrm{r_1}^{2}} + 0.39384432\\mathrm{e}^{-1.242567\\mathrm{r_1}^{2}} + 0.41082717\\mathrm{e}^{-5.782948\\mathrm{r_1}^{2}} + 0.26129687\\mathrm{e}^{-38.474970\\mathrm{r_1}^{2}} \\right)\\left(0.14772291\\mathrm{e}^{-10.298073\\mathrm{r_2}^{2}} + 0.39384432\\mathrm{e}^{-1.242567\\mathrm{r_2}^{2}} + 0.41082717\\mathrm{e}^{-5.782948\\mathrm{r_2}^{2}} + 0.26129687\\mathrm{e}^{-38.474970\\mathrm{r_2}^{2}} \\right)\\scriptsize$$"
      ]
    }
  ],
  "metadata": {
    "colab": {
      "provenance": []
    },
    "kernelspec": {
      "display_name": "Python 3",
      "name": "python3"
    },
    "language_info": {
      "codemirror_mode": {
        "name": "ipython",
        "version": 3
      },
      "file_extension": ".py",
      "mimetype": "text/x-python",
      "name": "python",
      "nbconvert_exporter": "python",
      "pygments_lexer": "ipython3",
      "version": "3.9.7"
    }
  },
  "nbformat": 4,
  "nbformat_minor": 0
}
